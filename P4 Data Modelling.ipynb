{
 "cells": [
  {
   "cell_type": "markdown",
   "metadata": {},
   "source": [
    "### QUESTION 1: Factors that impact salary\n",
    "\n",
    "To predict salary you will be building either a classification or regression model, using features like the location, title, and summary of the job. If framing this as a regression problem, you will be estimating the listed salary amounts. You may instead choose to frame this as a classification problem, in which case you will create labels from these salaries (high vs. low salary, for example) according to thresholds (such as median salary).\n",
    "\n",
    "You have learned a variety of new skills and models that may be useful for this problem:\n",
    "- NLP\n",
    "- Unsupervised learning and dimensionality reduction techniques (PCA, clustering)\n",
    "- Ensemble methods and decision tree models\n",
    "- SVM models\n",
    "\n",
    "Whatever you decide to use, the most important thing is to justify your choices and interpret your results. *Communication of your process is key.* Note that most listings **DO NOT** come with salary information. You'll need to able to extrapolate or predict the expected salaries for these listings."
   ]
  },
  {
   "cell_type": "code",
   "execution_count": 1,
   "metadata": {},
   "outputs": [],
   "source": [
    "import numpy as np\n",
    "import pandas as pd\n",
    "from sklearn.linear_model import LinearRegression\n",
    "from sklearn.model_selection import cross_val_score, cross_val_predict\n",
    "from sklearn.model_selection import train_test_split\n",
    "import matplotlib.pyplot as plt\n",
    "# # Suppress Warnings \n",
    "import warnings\n",
    "warnings.filterwarnings(\"ignore\")\n",
    "random_state = 8"
   ]
  },
  {
   "cell_type": "code",
   "execution_count": 2,
   "metadata": {},
   "outputs": [],
   "source": [
    "df = pd.read_csv('Cleaned_Data.csv')\n",
    "df.drop('Unnamed: 0',axis =1,inplace =True)"
   ]
  },
  {
   "cell_type": "code",
   "execution_count": 3,
   "metadata": {},
   "outputs": [
    {
     "data": {
      "text/plain": [
       "Index(['jobtitle', 'joburl', 'company', 'job_loc', 'job_search_term', 'Salary',\n",
       "       'job_desc', 'bracket', 'low_salary', 'high_salary', 'Position',\n",
       "       'senior', 'junior', 'Nomention', 'Freelance', 'Temporary', 'Contract',\n",
       "       'Permanent', 'Sal_Convert', 'Sal_Dur', 'Sal_Low', 'Sal_High',\n",
       "       'Sal_Avg'],\n",
       "      dtype='object')"
      ]
     },
     "execution_count": 3,
     "metadata": {},
     "output_type": "execute_result"
    }
   ],
   "source": [
    "df.columns"
   ]
  },
  {
   "cell_type": "markdown",
   "metadata": {},
   "source": [
    "### First We try MLR Regression Model based on the available dummy columns (Since we don't have any one hot encoding in the data cleaning file, we can do this step directly on all columns of the dataframe). \n"
   ]
  },
  {
   "cell_type": "code",
   "execution_count": 4,
   "metadata": {},
   "outputs": [],
   "source": [
    "# Create the Target and Predictor Variables\n",
    "y = df['Sal_Convert']"
   ]
  },
  {
   "cell_type": "code",
   "execution_count": 5,
   "metadata": {},
   "outputs": [],
   "source": [
    "col =['senior','Freelance', 'Temporary','Contract', 'Permanent']\n",
    "X = df[col]"
   ]
  },
  {
   "cell_type": "code",
   "execution_count": 6,
   "metadata": {},
   "outputs": [
    {
     "name": "stdout",
     "output_type": "stream",
     "text": [
      "[-0.46999722 -0.13754619  0.00556848  0.23265232 -0.24263823  0.06790364\n",
      "  0.15261104  0.2241099   0.10566779 -0.09638067]\n"
     ]
    }
   ],
   "source": [
    "lr = LinearRegression()\n",
    "scores = cross_val_score(lr,X,y,cv=10)\n",
    "print(scores)"
   ]
  },
  {
   "cell_type": "markdown",
   "metadata": {},
   "source": [
    "### Clearly the model is not Accurate and also variant. Next we use SGD Regressor "
   ]
  },
  {
   "cell_type": "code",
   "execution_count": 7,
   "metadata": {},
   "outputs": [
    {
     "name": "stdout",
     "output_type": "stream",
     "text": [
      "[-0.15734234 -0.00274571  0.0417595   0.13315892 -0.11920749]\n"
     ]
    }
   ],
   "source": [
    "## Using SGD Regressor\n",
    "from sklearn.linear_model import SGDRegressor\n",
    "\n",
    "sgd = SGDRegressor()\n",
    "model = sgd.fit(X,y)\n",
    "score = model.score(X,y)\n",
    "\n",
    "# Cross Validation\n",
    "sgdcv = cross_val_score(sgd,X,y,cv=5)\n",
    "print(sgdcv)"
   ]
  },
  {
   "cell_type": "code",
   "execution_count": 8,
   "metadata": {},
   "outputs": [],
   "source": [
    "# The Decision Tree Model \n",
    "from sklearn.tree import DecisionTreeClassifier, DecisionTreeRegressor\n",
    "regressor = DecisionTreeRegressor(criterion='mse')\n",
    "model = regressor.fit(X, y)\n",
    "Y_pred = model.predict(X)\n",
    "feature_importances = regressor.feature_importances_"
   ]
  },
  {
   "cell_type": "code",
   "execution_count": 9,
   "metadata": {},
   "outputs": [
    {
     "name": "stdout",
     "output_type": "stream",
     "text": [
      "The accuracy of the decision tree DTscore is 0.09702145685114483\n"
     ]
    }
   ],
   "source": [
    "DTscore = model.score(X,y)\n",
    "print('The accuracy of the decision tree DTscore is' , DTscore)"
   ]
  },
  {
   "cell_type": "code",
   "execution_count": 10,
   "metadata": {},
   "outputs": [
    {
     "data": {
      "text/plain": [
       "array([-0.59191122, -0.13250233,  0.0296194 ,  0.27367919, -0.25452622,\n",
       "        0.10298536,  0.14439611,  0.14022696, -0.06790584, -0.03438294])"
      ]
     },
     "execution_count": 10,
     "metadata": {},
     "output_type": "execute_result"
    }
   ],
   "source": [
    "# Cross Validation\n",
    "dtcv = cross_val_score(regressor,X,y,cv=10)\n",
    "dtcv"
   ]
  },
  {
   "cell_type": "code",
   "execution_count": 11,
   "metadata": {},
   "outputs": [
    {
     "data": {
      "text/plain": [
       "Index(['jobtitle', 'joburl', 'company', 'job_loc', 'job_search_term', 'Salary',\n",
       "       'job_desc', 'bracket', 'low_salary', 'high_salary', 'Position',\n",
       "       'senior', 'junior', 'Nomention', 'Freelance', 'Temporary', 'Contract',\n",
       "       'Permanent', 'Sal_Convert', 'Sal_Dur', 'Sal_Low', 'Sal_High',\n",
       "       'Sal_Avg'],\n",
       "      dtype='object')"
      ]
     },
     "execution_count": 11,
     "metadata": {},
     "output_type": "execute_result"
    }
   ],
   "source": [
    "df.columns"
   ]
  },
  {
   "cell_type": "markdown",
   "metadata": {},
   "source": [
    "Certainly the model is highly variant as we didn't prune the tree.We can go ahead and try to prune it, however the accuracy is not high to begin with. This may be simply because of the fact these variables are poor predictors of the salary. "
   ]
  },
  {
   "cell_type": "code",
   "execution_count": 12,
   "metadata": {},
   "outputs": [],
   "source": [
    "## Now We Treat the problem as a Classification Problem"
   ]
  },
  {
   "cell_type": "code",
   "execution_count": 13,
   "metadata": {},
   "outputs": [
    {
     "data": {
      "text/plain": [
       "array(['High', 'Low'], dtype=object)"
      ]
     },
     "execution_count": 13,
     "metadata": {},
     "output_type": "execute_result"
    }
   ],
   "source": [
    "df.bracket.unique()"
   ]
  },
  {
   "cell_type": "code",
   "execution_count": 14,
   "metadata": {},
   "outputs": [
    {
     "name": "stdout",
     "output_type": "stream",
     "text": [
      "0.5522388059701493\n"
     ]
    }
   ],
   "source": [
    "baseline = max(df.bracket.value_counts(normalize=True))\n",
    "print(baseline)"
   ]
  },
  {
   "cell_type": "code",
   "execution_count": 15,
   "metadata": {},
   "outputs": [
    {
     "data": {
      "text/plain": [
       "(268, 5)"
      ]
     },
     "execution_count": 15,
     "metadata": {},
     "output_type": "execute_result"
    }
   ],
   "source": [
    "y=df[['bracket']]\n",
    "x_train,x_test,y_train,y_test = train_test_split(X,y,train_size = 0.8,random_state=1)\n",
    "x_train.shape"
   ]
  },
  {
   "cell_type": "code",
   "execution_count": 16,
   "metadata": {},
   "outputs": [
    {
     "data": {
      "text/plain": [
       "(268, 1)"
      ]
     },
     "execution_count": 16,
     "metadata": {},
     "output_type": "execute_result"
    }
   ],
   "source": [
    "y_train.shape"
   ]
  },
  {
   "cell_type": "code",
   "execution_count": 17,
   "metadata": {},
   "outputs": [
    {
     "name": "stdout",
     "output_type": "stream",
     "text": [
      "[0.54545455 0.64814815 0.64150943 0.50943396 0.58490566]\n",
      "0.053760801816123575\n"
     ]
    }
   ],
   "source": [
    "DTClassifier = DecisionTreeClassifier(criterion='entropy',max_depth=3)\n",
    "dtree = DTClassifier.fit(x_train,y_train)\n",
    "ClassCV = cross_val_score(DTClassifier,x_train,y_train,cv=5)\n",
    "print(ClassCV)\n",
    "print(np.std(ClassCV))"
   ]
  },
  {
   "cell_type": "code",
   "execution_count": 18,
   "metadata": {},
   "outputs": [
    {
     "name": "stdout",
     "output_type": "stream",
     "text": [
      "0.7313432835820896\n"
     ]
    }
   ],
   "source": [
    "score = dtree.score(x_test,y_test)\n",
    "print(score)"
   ]
  },
  {
   "cell_type": "markdown",
   "metadata": {},
   "source": [
    "###  The score is a bit better than the baseline of 0.55. However, cross validation test shows that the accuracy varies from 0.54 to 0.64. Thus, the predictors are not good for making any reliable predictions. Therefore, neither regression nor classification problem can be solved with these variables. Therefore, now we perform NLP on the Job description data to improve the accuracy score."
   ]
  },
  {
   "cell_type": "code",
   "execution_count": 19,
   "metadata": {},
   "outputs": [],
   "source": [
    "# Import all the libraries\n",
    "import string\n",
    "import re\n",
    "from nltk.corpus import stopwords\n",
    "from gensim.utils import lemmatize\n",
    "import nltk\n",
    "from sklearn.feature_extraction.text import CountVectorizer, TfidfVectorizer\n",
    "\n",
    "from sklearn.metrics import accuracy_score,completeness_score,silhouette_score,confusion_matrix\n",
    "from sklearn.model_selection import train_test_split, cross_val_score\n",
    "\n",
    "from sklearn.svm import SVC\n",
    "from sklearn.linear_model import LogisticRegression\n",
    "from sklearn.ensemble import RandomForestClassifier\n",
    "from sklearn.decomposition import PCA\n",
    "from sklearn.neighbors import KNeighborsClassifier\n",
    "from sklearn.naive_bayes import BernoulliNB, MultinomialNB\n",
    "\n"
   ]
  },
  {
   "cell_type": "markdown",
   "metadata": {},
   "source": [
    "### NLP Strategy\n",
    "First we remove the stop words, then we lemmatize. Then we perform Count vectorization and TFIDF to find which words are important. From this we will try to establish which words (20-50) affect the salary most by doing further modelling.  "
   ]
  },
  {
   "cell_type": "code",
   "execution_count": 20,
   "metadata": {},
   "outputs": [],
   "source": [
    "# We first bring everything to lower case in Job Description column\n",
    "df['job_desc'] = [desc.lower() for desc in df['job_desc']]"
   ]
  },
  {
   "cell_type": "code",
   "execution_count": 21,
   "metadata": {},
   "outputs": [],
   "source": [
    "# Define Stopwords\n",
    "newstopwords = ['terms','conditions','work','qualification','staff','us','date','time','year',\n",
    "               'role','skill','support','ability','click','apply','please','contact',\n",
    "                'applicant','application','close','position','description','button',\n",
    "               'selection','aboriginal','torre','strait','islander','resume','cv','key','criteria',\n",
    "               'job','today','send','post','australian','rights','opportunity','process',\n",
    "                'client','system','include','provide','cover','letter','candidate','need',\n",
    "                'midnight','day','data','daylight','skill','south','sydney','western','analyst']\n",
    "default_stopwords = nltk.corpus.stopwords.words('english')\n",
    "added_stopwords = list(string.punctuation) + newstopwords\n",
    "stopwords = set(default_stopwords).union(added_stopwords)"
   ]
  },
  {
   "cell_type": "code",
   "execution_count": 22,
   "metadata": {},
   "outputs": [],
   "source": [
    "# Function to remove stop words and numbers and any emojis and non english characters.\n",
    "def preprocess(x):\n",
    "    x = re.sub('[^a-z\\s]', '', x.lower())                  # get rid of noise\n",
    "    x = [w for w in x.split() if w not in set(stopwords)]  # remove stopwords\n",
    "    return ' '.join(x)   "
   ]
  },
  {
   "cell_type": "code",
   "execution_count": 23,
   "metadata": {},
   "outputs": [],
   "source": [
    "df['clean_job_desc'] = df['job_desc'].apply(preprocess)"
   ]
  },
  {
   "cell_type": "code",
   "execution_count": 24,
   "metadata": {},
   "outputs": [],
   "source": [
    "# Function to lemmatize the job description\n",
    "def genlemma (sentence):\n",
    "    lemmatized_out = [wd.decode('utf-8').split('/')[0] for wd in lemmatize(sentence)]\n",
    "    return ' '.join(lemmatized_out)"
   ]
  },
  {
   "cell_type": "code",
   "execution_count": 25,
   "metadata": {},
   "outputs": [],
   "source": [
    "df['lem_output'] = df['clean_job_desc'].apply(genlemma)"
   ]
  },
  {
   "cell_type": "code",
   "execution_count": 26,
   "metadata": {},
   "outputs": [
    {
     "data": {
      "text/plain": [
       "0    learn software ainsoff sydneystart february en...\n",
       "1    hourparttime type permanent part classificatio...\n",
       "2    yeareleventime webby awardwin freelancercom wo...\n",
       "3    daytemporary contract scientist position open ...\n",
       "4    yearcontractjob type fix term full location ns...\n",
       "Name: lem_output, dtype: object"
      ]
     },
     "execution_count": 26,
     "metadata": {},
     "output_type": "execute_result"
    }
   ],
   "source": [
    "df['lem_output'].head()"
   ]
  },
  {
   "cell_type": "code",
   "execution_count": 27,
   "metadata": {},
   "outputs": [
    {
     "data": {
      "text/plain": [
       "(335, 4992)"
      ]
     },
     "execution_count": 27,
     "metadata": {},
     "output_type": "execute_result"
    }
   ],
   "source": [
    "# Perform TFIDF Vectorization\n",
    "vect = TfidfVectorizer()\n",
    "dtm = vect.fit_transform(df['lem_output'])\n",
    "features = vect.get_feature_names()\n",
    "dtm.shape"
   ]
  },
  {
   "cell_type": "code",
   "execution_count": null,
   "metadata": {},
   "outputs": [],
   "source": []
  },
  {
   "cell_type": "markdown",
   "metadata": {},
   "source": [
    "####  Interpretation\n",
    "The number of Features are way more than the rows. This will not create a good model. \n",
    "We need to look at the most important features (say 25 -50 in number) for interpretability.\n",
    "For a good model, we may do PCA which can do well with very less number of features."
   ]
  },
  {
   "cell_type": "code",
   "execution_count": 28,
   "metadata": {},
   "outputs": [
    {
     "data": {
      "text/plain": [
       "(335, 20)"
      ]
     },
     "execution_count": 28,
     "metadata": {},
     "output_type": "execute_result"
    }
   ],
   "source": [
    "vect = TfidfVectorizer(max_features = 20,ngram_range= (2,5))\n",
    "dtm = vect.fit_transform(df['lem_output'])\n",
    "features = vect.get_feature_names()\n",
    "dtm.shape"
   ]
  },
  {
   "cell_type": "markdown",
   "metadata": {},
   "source": [
    "Let us start modelling - First, we will try to solve the regression problem for salary data followed by classification problem. Since we have very small dataset, Baysian may be a lot useful. Also since forests and trees are open models, we will try to use them as well and \n",
    "see what is the output."
   ]
  },
  {
   "cell_type": "code",
   "execution_count": 29,
   "metadata": {},
   "outputs": [],
   "source": [
    "# Regression With NLP variables\n",
    "\n"
   ]
  },
  {
   "cell_type": "code",
   "execution_count": 30,
   "metadata": {},
   "outputs": [
    {
     "name": "stdout",
     "output_type": "stream",
     "text": [
      "The mean CV Score for n_gram = 1 is -0.03 and STD is 0.02\n",
      "The mean CV Score for n_gram = 2 is -0.09 and STD is 0.08\n",
      "The mean CV Score for n_gram = 3 is -0.05 and STD is 0.09\n",
      "The mean CV Score for n_gram = 4 is -0.02 and STD is 0.07\n"
     ]
    }
   ],
   "source": [
    "# Linear Regression\n",
    "y = df.Sal_Convert\n",
    "\n",
    "n_gram =range(1,5)\n",
    "for i in n_gram:\n",
    "    vect = TfidfVectorizer(max_features = 5,ngram_range= (i,5))\n",
    "    dtm = vect.fit_transform(df['lem_output'])\n",
    "    X = dtm\n",
    "    X_train_reg,X_test_reg,y_train_reg,y_test_reg = train_test_split(X,y,train_size =0.8,)\n",
    "    cvscore = cross_val_score(lr,X_train_reg,y_train_reg,cv=5)\n",
    "    print(f'The mean CV Score for n_gram = {i} is {round(cvscore.mean(),2)} and STD is {round(cvscore.std(),2)}')"
   ]
  },
  {
   "cell_type": "code",
   "execution_count": 31,
   "metadata": {},
   "outputs": [
    {
     "name": "stdout",
     "output_type": "stream",
     "text": [
      "The mean CV Score for n_gram = 1 is 0.06 and STD is 0.19\n",
      "The mean CV Score for n_gram = 2 is 0.11 and STD is 0.38\n",
      "The mean CV Score for n_gram = 3 is 0.58 and STD is 0.2\n",
      "The mean CV Score for n_gram = 4 is 0.55 and STD is 0.12\n"
     ]
    }
   ],
   "source": [
    "# Tree\n",
    "for i in n_gram:\n",
    "    vect = TfidfVectorizer(ngram_range= (i,5))\n",
    "    dtm = vect.fit_transform(df['lem_output'])\n",
    "    X = dtm\n",
    "    X_train_reg,X_test_reg,y_train_reg,y_test_reg = train_test_split(X,y,train_size =0.75,)\n",
    "    regressor = DecisionTreeRegressor(criterion='mse')\n",
    "    dtscore = cross_val_score(regressor,X_train_reg,y_train_reg,cv=5)\n",
    "    print(f'The mean CV Score for n_gram = {i} is {round(dtscore.mean(),2)} and STD is {round(dtscore.std(),2)}')"
   ]
  },
  {
   "cell_type": "markdown",
   "metadata": {},
   "source": [
    "The regression Fails even with the maximum number of features from the NLP. Therefore, it can be concluded that it is not possible to predict the actual salary of the person based on the job description."
   ]
  },
  {
   "cell_type": "markdown",
   "metadata": {},
   "source": [
    "# Tackling Q1 as a Classification Problem"
   ]
  },
  {
   "cell_type": "markdown",
   "metadata": {},
   "source": [
    "Considering this as a supervised problem, following classfication algorithms may be tried - \n",
    "KNN, Logistic Regression, SVM, Naive Bayes and Random Forest."
   ]
  },
  {
   "cell_type": "code",
   "execution_count": 32,
   "metadata": {},
   "outputs": [
    {
     "name": "stdout",
     "output_type": "stream",
     "text": [
      "The Base line accuracy is 0.55\n"
     ]
    }
   ],
   "source": [
    "# Setting up X and y variables for Classification and baseline\n",
    "y_col= pd.Series (['bracket'])\n",
    "y = pd.get_dummies(df,columns=y_col,drop_first =True)\n",
    "baseline = max(df.bracket.value_counts(normalize=True))\n",
    "print('The Base line accuracy is', round(baseline,2))"
   ]
  },
  {
   "cell_type": "code",
   "execution_count": 33,
   "metadata": {},
   "outputs": [
    {
     "name": "stdout",
     "output_type": "stream",
     "text": [
      "The mean CV Score for n_gram = 1 is 0.81 and STD is 0.06\n",
      "The mean CV Score for n_gram = 2 is 0.81 and STD is 0.06\n",
      "The mean CV Score for n_gram = 3 is 0.81 and STD is 0.06\n",
      "The mean CV Score for n_gram = 4 is 0.81 and STD is 0.06\n"
     ]
    }
   ],
   "source": [
    "# Logistic Regression\n",
    "y =df.bracket\n",
    "logreg = LogisticRegression()\n",
    "for i in n_gram:\n",
    "    vect = TfidfVectorizer(ngram_range= (i,5))\n",
    "    dtm = vect.fit_transform(df['lem_output'])\n",
    "    X = dtm\n",
    "    X_train,X_test,y_train,y_test = train_test_split(X,y,train_size =0.8,random_state = 8)\n",
    "    logcvscore = cross_val_score(logreg,X_train,y_train,cv=10)\n",
    "    print(f'The mean CV Score for n_gram = {i} is {round(logcvscore.mean(),2)} and STD is {round(logcvscore.std(),2)}')\n"
   ]
  },
  {
   "cell_type": "code",
   "execution_count": null,
   "metadata": {},
   "outputs": [],
   "source": []
  },
  {
   "cell_type": "markdown",
   "metadata": {},
   "source": [
    "The logistic regression will perform well because it takes into account more than 4500 variables for curve fitting. It is bound to be very correct. To explore further we plot the accuracy and standard deviation for logistic regression with varying predictor variables."
   ]
  },
  {
   "cell_type": "code",
   "execution_count": 34,
   "metadata": {},
   "outputs": [],
   "source": [
    "max_feat = np.arange(100,4800,200)\n",
    "logcvscore_mean=np.ones(len(max_feat))\n",
    "logcvscore_std = np.ones(len(max_feat))\n",
    "def logcvs (max_feat,lem_op,cv=5):\n",
    "    vect = TfidfVectorizer(max_features=max_feat)\n",
    "    X = vect.fit_transform(lem_op)\n",
    "    logcvscore = cross_val_score(logreg,X,y,cv=10)\n",
    "    return np.mean(logcvscore),np.std(logcvscore)\n",
    "\n",
    "for i in range(len(max_feat)):\n",
    "    logcvscore_mean[i],logcvscore_std[i] =(logcvs(max_feat[i],df.lem_output))\n"
   ]
  },
  {
   "cell_type": "code",
   "execution_count": 35,
   "metadata": {},
   "outputs": [
    {
     "data": {
      "image/png": "[encoded data removed]",
      "text/plain": [
       "<Figure size 432x288 with 2 Axes>"
      ]
     },
     "metadata": {},
     "output_type": "display_data"
    }
   ],
   "source": [
    "fig,ax1 = plt.subplots()\n",
    "ax2 = ax1.twinx()\n",
    "ax1.plot(max_feat,logcvscore_mean,color ='red')\n",
    "ax1.set(xlabel='Maximum Features',ylabel='Accuracy')\n",
    "ax2.plot(max_feat,logcvscore_std,color = 'blue',)\n",
    "ax2.set(ylabel = 'STD for K fold')\n",
    "fig.tight_layout()"
   ]
  },
  {
   "cell_type": "markdown",
   "metadata": {},
   "source": [
    "It ca be seen that for around 1500 features, the accuracy score saturates and standard deviation is minimize as well. Therefore, we now perform the train test split with logistic regression and consider 1500 number of features to calculate the confusion matrix. "
   ]
  },
  {
   "cell_type": "code",
   "execution_count": 36,
   "metadata": {},
   "outputs": [
    {
     "name": "stdout",
     "output_type": "stream",
     "text": [
      "Score on test data is 0.835820895522388\n",
      "The Confusion Matrix on test data is given as:\n",
      " [[26 11]\n",
      " [ 0 30]]\n"
     ]
    }
   ],
   "source": [
    "vect = TfidfVectorizer(max_features=4000)\n",
    "dtm = vect.fit_transform(df['lem_output'])\n",
    "X = dtm\n",
    "X_train,X_test,y_train,y_test = train_test_split(X,y,train_size =0.8,random_state =8)\n",
    "model = logreg.fit(X_train,y_train)\n",
    "y_pred = model.predict(X_test)\n",
    "score = model.score(X_test,y_test)\n",
    "print ('Score on test data is',score)\n",
    "print('The Confusion Matrix on test data is given as:\\n',confusion_matrix(y_test,y_pred))"
   ]
  },
  {
   "cell_type": "code",
   "execution_count": 37,
   "metadata": {},
   "outputs": [],
   "source": [
    "vect = TfidfVectorizer(max_features=4000)\n",
    "dtm = vect.fit_transform(df['lem_output'])\n",
    "X = dtm\n",
    "X_train,X_test,y_train,y_test = train_test_split(X,y,train_size =0.8,random_state =8)\n",
    "model = logreg.fit(X_train,y_train)\n",
    "y_pred = model.predict(X)\n",
    "\n"
   ]
  },
  {
   "cell_type": "markdown",
   "metadata": {},
   "source": [
    "Interestingly, there are no false negatives. In this context,it means that the algorithm does not predict the salary to be 'High' when it is actually 'Low'."
   ]
  },
  {
   "cell_type": "code",
   "execution_count": 38,
   "metadata": {},
   "outputs": [],
   "source": [
    "# from sklearn.metrics import roc_curve, auc\n",
    "# fpr, tpr, _ = roc_curve(y_pred, y)\n",
    "# roc_auc = auc(fpr, tpr)"
   ]
  },
  {
   "cell_type": "code",
   "execution_count": 39,
   "metadata": {},
   "outputs": [],
   "source": [
    "# Plot of a ROC curve for class 1 (High Salary)\n",
    "# plt.figure(figsize=[8,8])\n",
    "# plt.plot(fpr, tpr, label='ROC curve (area = %0.2f)' % roc_auc, linewidth=4)\n",
    "# plt.plot([0, 1], [0, 1], 'k--', linewidth=4)\n",
    "# plt.xlim([-0.05, 1.0])\n",
    "# plt.ylim([-0.05, 1.05])\n",
    "# plt.xlabel('False Positive Rate', fontsize=18)\n",
    "# plt.ylabel('True Positive Rate', fontsize=18)\n",
    "# plt.title('Receiver operating characteristic for cancer detection', fontsize=18)\n",
    "# plt.legend(loc=\"lower right\")\n",
    "# plt.show()"
   ]
  },
  {
   "cell_type": "code",
   "execution_count": 40,
   "metadata": {},
   "outputs": [
    {
     "name": "stdout",
     "output_type": "stream",
     "text": [
      "The mean CV Score for n_gram = 1 is 0.6 and STD is 0.1\n",
      "The mean CV Score for n_gram = 2 is 0.64 and STD is 0.08\n",
      "The mean CV Score for n_gram = 3 is 0.66 and STD is 0.09\n",
      "The mean CV Score for n_gram = 4 is 0.51 and STD is 0.06\n",
      "Score on test data is 0.6268656716417911\n",
      "The Confusion Matrix on test data is given as:\n",
      " [[30  7]\n",
      " [18 12]]\n"
     ]
    }
   ],
   "source": [
    "# KNN with default values\n",
    "from sklearn.neighbors import KNeighborsClassifier\n",
    "\n",
    "knn = KNeighborsClassifier()\n",
    "\n",
    "for i in n_gram:\n",
    "    vect = TfidfVectorizer(ngram_range= (i,100))\n",
    "    dtm = vect.fit_transform(df['lem_output'])\n",
    "    X = dtm\n",
    "    X_train,X_test,y_train,y_test = train_test_split(X,y,train_size =0.8,random_state = 8)\n",
    "    knncvscore = cross_val_score(knn,X_train,y_train,cv=10)\n",
    "    print(f'The mean CV Score for n_gram = {i} is {round(knncvscore.mean(),2)} and STD is {round(knncvscore.std(),2)}')\n",
    "model = knn.fit(X_train,y_train)\n",
    "y_pred = model.predict(X_test)\n",
    "score = model.score(X_test,y_test)\n",
    "print ('Score on test data is',score)\n",
    "print('The Confusion Matrix on test data is given as:\\n',confusion_matrix(y_test,y_pred))"
   ]
  },
  {
   "cell_type": "code",
   "execution_count": 41,
   "metadata": {},
   "outputs": [
    {
     "name": "stdout",
     "output_type": "stream",
     "text": [
      "The mean CV Score for n_gram = 1 is 0.84 and STD is 0.08\n",
      "The mean CV Score for n_gram = 2 is 0.82 and STD is 0.07\n",
      "The mean CV Score for n_gram = 3 is 0.84 and STD is 0.07\n",
      "The mean CV Score for n_gram = 4 is 0.85 and STD is 0.03\n",
      "Score on test data is 0.9104477611940298\n",
      "The Confusion Matrix on test data is given as:\n",
      " [[22  6]\n",
      " [ 0 39]]\n"
     ]
    }
   ],
   "source": [
    "# Support Vector Machine\n",
    "svm = SVC(probability=True,decision_function_shape='ovo',degree = 100,kernel = 'linear')\n",
    "\n",
    "for i in n_gram:\n",
    "    vect = TfidfVectorizer(ngram_range= (i,5))\n",
    "    dtm = vect.fit_transform(df['lem_output'])\n",
    "    X = dtm\n",
    "    X_train,X_test,y_train,y_test = train_test_split(X,y,train_size =0.8)\n",
    "    svmcvscore = cross_val_score(svm,X_train,y_train,cv=10)\n",
    "    print(f'The mean CV Score for n_gram = {i} is {round(svmcvscore.mean(),2)} and STD is {round(svmcvscore.std(),2)}')\n",
    "model = svm.fit(X_train,y_train)\n",
    "y_pred = model.predict(X_test)\n",
    "score = model.score(X_test,y_test)\n",
    "print ('Score on test data is',score)\n",
    "print('The Confusion Matrix on test data is given as:\\n',confusion_matrix(y_test,y_pred))"
   ]
  },
  {
   "cell_type": "code",
   "execution_count": 42,
   "metadata": {},
   "outputs": [
    {
     "name": "stdout",
     "output_type": "stream",
     "text": [
      "The mean CV Score for n_gram = 1 is 0.83 and STD is 0.05\n",
      "The mean CV Score for n_gram = 2 is 0.8 and STD is 0.07\n",
      "The mean CV Score for n_gram = 3 is 0.82 and STD is 0.06\n",
      "The mean CV Score for n_gram = 4 is 0.84 and STD is 0.07\n"
     ]
    }
   ],
   "source": [
    "# Naive Bayes\n",
    "bnb = BernoulliNB()\n",
    "       \n",
    "for i in n_gram:\n",
    "    vect = TfidfVectorizer(ngram_range= (i,5))\n",
    "    dtm = vect.fit_transform(df['lem_output'])\n",
    "    X = dtm\n",
    "    X_train,X_test,y_train,y_test = train_test_split(X,y,train_size =0.8)\n",
    "    bnbcvscore = cross_val_score(bnb,X_train,y_train,cv=10)\n",
    "    print(f'The mean CV Score for n_gram = {i} is {round(bnbcvscore.mean(),2)} and STD is {round(bnbcvscore.std(),2)}')\n"
   ]
  },
  {
   "cell_type": "markdown",
   "metadata": {},
   "source": [
    "The accurcay of Bernoulli NB is very high (higher than logistic regression) as expected since it works exceptionally well with fewer data points.\n",
    "We therefore check for the effect of Max_Features."
   ]
  },
  {
   "cell_type": "code",
   "execution_count": 43,
   "metadata": {},
   "outputs": [],
   "source": [
    "max_feat = np.arange(100,4800,200)\n",
    "bnbcvscore_mean=np.ones(len(max_feat))\n",
    "bnbcvscore_std = np.ones(len(max_feat))\n",
    "def bnbcvs (max_feat,lem_op,cv=5):\n",
    "    vect = TfidfVectorizer(max_features=max_feat)\n",
    "    X = vect.fit_transform(lem_op)\n",
    "    bnbcvscore = cross_val_score(bnb,X,y,cv=10)\n",
    "    return np.mean(bnbcvscore),np.std(bnbcvscore)\n",
    "\n",
    "for i in range(len(max_feat)):\n",
    "    bnbcvscore_mean[i],bnbcvscore_std[i] =(bnbcvs(max_feat[i],df.lem_output))"
   ]
  },
  {
   "cell_type": "code",
   "execution_count": 44,
   "metadata": {},
   "outputs": [
    {
     "data": {
      "image/png": "[encoded data removed]",
      "text/plain": [
       "<Figure size 432x288 with 2 Axes>"
      ]
     },
     "metadata": {},
     "output_type": "display_data"
    }
   ],
   "source": [
    "fig,ax1 = plt.subplots()\n",
    "ax2 = ax1.twinx()\n",
    "ax1.plot(max_feat,bnbcvscore_mean,color ='red')\n",
    "ax1.set(xlabel='Maximum Features',ylabel='Accuracy')\n",
    "ax2.plot(max_feat,bnbcvscore_std,color = 'blue',)\n",
    "ax2.set(ylabel = 'STD for K fold')\n",
    "fig.tight_layout()"
   ]
  },
  {
   "cell_type": "markdown",
   "metadata": {},
   "source": [
    "It has better accuracy and standard deviation than Logoistic Regression. Also, the accuracy does not saturate with increasing number of features, which is understandable since more number of features available means more apriori information which leads to better naive bayes. For around 400 features, the Bernoulli NB seems to perform quite well. Therefore Train - Test Split is done by considering 4000 features."
   ]
  },
  {
   "cell_type": "code",
   "execution_count": 45,
   "metadata": {},
   "outputs": [
    {
     "name": "stdout",
     "output_type": "stream",
     "text": [
      "Score on test data is 0.835820895522388\n",
      "The Confusion Matrix on test data is given as:\n",
      " [[34  3]\n",
      " [ 8 22]]\n"
     ]
    }
   ],
   "source": [
    "vect = TfidfVectorizer(max_features=4000)\n",
    "dtm = vect.fit_transform(df['lem_output'])\n",
    "X = dtm\n",
    "X_train,X_test,y_train,y_test = train_test_split(X,y,train_size =0.8,random_state =8)\n",
    "model = bnb.fit(X_train,y_train)\n",
    "y_pred = model.predict(X_test)\n",
    "score = model.score(X_test,y_test)\n",
    "print ('Score on test data is',score)\n",
    "print('The Confusion Matrix on test data is given as:\\n',confusion_matrix(y_test,y_pred))"
   ]
  },
  {
   "cell_type": "code",
   "execution_count": 46,
   "metadata": {},
   "outputs": [],
   "source": [
    "max_feat = np.arange(100,4800,200)\n",
    "score= np.ones(len(max_feat))\n",
    "diff = np.ones(len(max_feat))\n",
    "for i in range(len(max_feat)):\n",
    "    vect = TfidfVectorizer(max_features=max_feat[i])\n",
    "    dtm = vect.fit_transform(df['lem_output'])\n",
    "    X = dtm\n",
    "    X_train,X_test,y_train,y_test = train_test_split(X,y,train_size =0.8,random_state =8)\n",
    "    model = bnb.fit(X_train,y_train)\n",
    "    y_pred = model.predict(X_test)\n",
    "    score [i] = model.score(X_test,y_test)\n",
    "    diff[i] = confusion_matrix(y_test,y_pred)[1][0] - confusion_matrix(y_test,y_pred)[0][1]"
   ]
  },
  {
   "cell_type": "code",
   "execution_count": 47,
   "metadata": {},
   "outputs": [
    {
     "data": {
      "text/plain": [
       "<matplotlib.legend.Legend at 0x180ddcf8>"
      ]
     },
     "execution_count": 47,
     "metadata": {},
     "output_type": "execute_result"
    },
    {
     "data": {
      "image/png": "[encoded data removed]",
      "text/plain": [
       "<Figure size 432x288 with 2 Axes>"
      ]
     },
     "metadata": {},
     "output_type": "display_data"
    }
   ],
   "source": [
    "fig,ax1 = plt.subplots()\n",
    "\n",
    "ax1.plot(max_feat,score,color ='red',label = 'Accuracy')\n",
    "plt.legend(loc = 'best')\n",
    "ax1.set(xlabel='Maximum Features',ylabel='Accuracy')\n",
    "ax2 = ax1.twinx()\n",
    "ax2.plot(max_feat,diff,color = 'blue',label = 'Difference')\n",
    "ax2.set(ylabel = 'Difference Between False Low and False High')\n",
    "ax2.set_xlim ([100,4700])\n",
    "# plot a zero Line\n",
    "line = np.zeros_like(max_feat)\n",
    "ax2.plot(max_feat,line,color = 'black')\n",
    "\n",
    "fig.tight_layout()\n",
    "plt.legend(loc = 'best')"
   ]
  },
  {
   "cell_type": "markdown",
   "metadata": {},
   "source": [
    "In figure above, the difference between False Lows and False Highs are plotted as a function of number of features. It can be seen that if false Low salary prediction is requried to be reduced than False Highs, smaller number of features (<400) should be considered. However, this also limits the accuracy of the model to 0.73."
   ]
  },
  {
   "cell_type": "code",
   "execution_count": 48,
   "metadata": {},
   "outputs": [
    {
     "name": "stdout",
     "output_type": "stream",
     "text": [
      "The mean CV Score for n_gram = 1 is 0.81 and STD is 0.07\n",
      "The mean CV Score for n_gram = 2 is 0.84 and STD is 0.07\n",
      "The mean CV Score for n_gram = 3 is 0.81 and STD is 0.06\n",
      "The mean CV Score for n_gram = 4 is 0.8 and STD is 0.06\n"
     ]
    }
   ],
   "source": [
    "rf = RandomForestClassifier()\n",
    "       \n",
    "for i in n_gram:\n",
    "    vect = TfidfVectorizer(ngram_range= (i,5))\n",
    "    dtm = vect.fit_transform(df['lem_output'])\n",
    "    X = dtm\n",
    "    X_train,X_test,y_train,y_test = train_test_split(X,y,train_size =0.8)\n",
    "    rfcvscore = cross_val_score(rf,X_train,y_train,cv=10)\n",
    "    print(f'The mean CV Score for n_gram = {i} is {round(rfcvscore.mean(),2)} and STD is {round(rfcvscore.std(),2)}')\n"
   ]
  },
  {
   "cell_type": "code",
   "execution_count": 49,
   "metadata": {},
   "outputs": [
    {
     "data": {
      "text/plain": [
       "[<matplotlib.lines.Line2D at 0x16f16be0>]"
      ]
     },
     "execution_count": 49,
     "metadata": {},
     "output_type": "execute_result"
    },
    {
     "data": {
      "image/png": "[encoded data removed]",
      "text/plain": [
       "<Figure size 432x288 with 1 Axes>"
      ]
     },
     "metadata": {},
     "output_type": "display_data"
    }
   ],
   "source": [
    "# Now we find out the effect of number of features\n",
    "rf = RandomForestClassifier(n_estimators=100, max_depth=None, max_features='auto',random_state = 8)\n",
    "max_feat = np.arange(100,4800,50)\n",
    "score = np.ones(len(max_feat))\n",
    "\n",
    "for i in range(len(max_feat)):\n",
    "    vect = TfidfVectorizer(max_features=max_feat[i])\n",
    "    dtm = vect.fit_transform(df['lem_output'])\n",
    "    X = dtm\n",
    "    X_train,X_test,y_train,y_test = train_test_split(X,y,train_size =0.8,random_state =8)\n",
    "    model = rf.fit(X_train,y_train)\n",
    "#     y_pred = model.predict(X_test)\n",
    "    score [i] = model.score(X_test,y_test)\n",
    "plt.plot(max_feat,score)   "
   ]
  },
  {
   "cell_type": "code",
   "execution_count": 50,
   "metadata": {},
   "outputs": [
    {
     "name": "stdout",
     "output_type": "stream",
     "text": [
      "The Test Score is : 0.6268656716417911\n",
      "The mean CV Score is 0.63 and STD is 0.04\n"
     ]
    },
    {
     "data": {
      "text/plain": [
       "array([[13, 24],\n",
       "       [ 1, 29]], dtype=int64)"
      ]
     },
     "execution_count": 50,
     "metadata": {},
     "output_type": "execute_result"
    }
   ],
   "source": [
    "## Random Forest ()\n",
    "# The Tree has a feature that the model is very open\n",
    "# Now we find the feature importance using differnt N Grams\n",
    "vect = TfidfVectorizer(max_features =10,ngram_range=(2,4)) # Change to find differnt ngrams\n",
    "dtm = vect.fit_transform(df['lem_output'])\n",
    "X = dtm\n",
    "X_train,X_test,y_train,y_test = train_test_split(X,y,train_size =0.8,random_state =8)\n",
    "\n",
    "rf = RandomForestClassifier(n_estimators=10, max_depth=None, max_features='auto',random_state = 8)\n",
    "model = rf.fit(X_train, y_train)\n",
    "y_pred = model.predict(X_test)\n",
    "score = model.score(X_test,y_test)\n",
    "print('The Test Score is :',score)\n",
    "rfcvscore =cross_val_score(rf,X_train,y_train,cv=5)\n",
    "print(f'The mean CV Score is {round(rfcvscore.mean(),2)} and STD is {round(rfcvscore.std(),2)}')\n",
    "confusion_matrix(y_test,y_pred)"
   ]
  },
  {
   "cell_type": "code",
   "execution_count": 51,
   "metadata": {},
   "outputs": [],
   "source": [
    "# Get the top 10 features \n",
    "vect.get_feature_names()\n",
    "rf.feature_importances_\n",
    "diction = dict({'feature':vect.get_feature_names(),'importance':rf.feature_importances_})\n"
   ]
  },
  {
   "cell_type": "code",
   "execution_count": 52,
   "metadata": {},
   "outputs": [
    {
     "data": {
      "text/html": [
       "<div>\n",
       "<style scoped>\n",
       "    .dataframe tbody tr th:only-of-type {\n",
       "        vertical-align: middle;\n",
       "    }\n",
       "\n",
       "    .dataframe tbody tr th {\n",
       "        vertical-align: top;\n",
       "    }\n",
       "\n",
       "    .dataframe thead th {\n",
       "        text-align: right;\n",
       "    }\n",
       "</style>\n",
       "<table border=\"1\" class=\"dataframe\">\n",
       "  <thead>\n",
       "    <tr style=\"text-align: right;\">\n",
       "      <th></th>\n",
       "      <th>feature</th>\n",
       "      <th>importance</th>\n",
       "    </tr>\n",
       "  </thead>\n",
       "  <tbody>\n",
       "    <tr>\n",
       "      <th>7</th>\n",
       "      <td>problem solve</td>\n",
       "      <td>0.174590</td>\n",
       "    </tr>\n",
       "    <tr>\n",
       "      <th>1</th>\n",
       "      <td>communication skill</td>\n",
       "      <td>0.135684</td>\n",
       "    </tr>\n",
       "    <tr>\n",
       "      <th>8</th>\n",
       "      <td>skill experience</td>\n",
       "      <td>0.118295</td>\n",
       "    </tr>\n",
       "    <tr>\n",
       "      <th>0</th>\n",
       "      <td>business process</td>\n",
       "      <td>0.107582</td>\n",
       "    </tr>\n",
       "    <tr>\n",
       "      <th>5</th>\n",
       "      <td>machine learn</td>\n",
       "      <td>0.094642</td>\n",
       "    </tr>\n",
       "    <tr>\n",
       "      <th>9</th>\n",
       "      <td>year experience</td>\n",
       "      <td>0.093393</td>\n",
       "    </tr>\n",
       "    <tr>\n",
       "      <th>3</th>\n",
       "      <td>experience working</td>\n",
       "      <td>0.084872</td>\n",
       "    </tr>\n",
       "    <tr>\n",
       "      <th>6</th>\n",
       "      <td>month contract</td>\n",
       "      <td>0.079518</td>\n",
       "    </tr>\n",
       "    <tr>\n",
       "      <th>4</th>\n",
       "      <td>internal external</td>\n",
       "      <td>0.070237</td>\n",
       "    </tr>\n",
       "    <tr>\n",
       "      <th>2</th>\n",
       "      <td>computer science</td>\n",
       "      <td>0.041187</td>\n",
       "    </tr>\n",
       "  </tbody>\n",
       "</table>\n",
       "</div>"
      ],
      "text/plain": [
       "               feature  importance\n",
       "7        problem solve    0.174590\n",
       "1  communication skill    0.135684\n",
       "8     skill experience    0.118295\n",
       "0     business process    0.107582\n",
       "5        machine learn    0.094642\n",
       "9      year experience    0.093393\n",
       "3   experience working    0.084872\n",
       "6       month contract    0.079518\n",
       "4    internal external    0.070237\n",
       "2     computer science    0.041187"
      ]
     },
     "execution_count": 52,
     "metadata": {},
     "output_type": "execute_result"
    }
   ],
   "source": [
    "feature_importances = pd.DataFrame(diction)\n",
    "feature_importances.sort_values(by='importance', ascending=False)\n"
   ]
  },
  {
   "cell_type": "code",
   "execution_count": null,
   "metadata": {},
   "outputs": [],
   "source": []
  },
  {
   "cell_type": "code",
   "execution_count": null,
   "metadata": {},
   "outputs": [],
   "source": []
  },
  {
   "cell_type": "code",
   "execution_count": null,
   "metadata": {},
   "outputs": [],
   "source": []
  },
  {
   "cell_type": "markdown",
   "metadata": {},
   "source": [
    "It can be seen that the model works well even with features as less as 10. Also, this model has quite high accuracy comparable to the Logistic regression but has leasser variance."
   ]
  },
  {
   "cell_type": "code",
   "execution_count": null,
   "metadata": {},
   "outputs": [],
   "source": []
  },
  {
   "cell_type": "markdown",
   "metadata": {},
   "source": [
    "### QUESTION 2: Factors that distinguish job category\n",
    "\n",
    "Using the job postings you scraped for part 1 (or potentially new job postings from a second round of scraping), identify features in the data related to job postings that can distinguish job titles from each other. There are a variety of interesting ways you can frame the target variable, for example:\n",
    "- What components of a job posting distinguish data scientists from other data jobs?\n",
    "- What features are important for distinguishing junior vs. senior positions?\n",
    "- Do the requirements for titles vary significantly with industry (e.g. healthcare vs. government)?\n",
    "\n",
    "You may end up making multiple classification models to tackle different questions. Be sure to clearly explain your hypotheses and framing, any feature engineering, and what your target variables are. The type of classification model you choose is up to you. Be sure to interpret your results and evaluate your models' performance."
   ]
  },
  {
   "cell_type": "code",
   "execution_count": 53,
   "metadata": {},
   "outputs": [
    {
     "data": {
      "text/plain": [
       "array(['Data+Scientist', 'Data+Analyst', 'Business+Analyst',\n",
       "       'Data+Engineer'], dtype=object)"
      ]
     },
     "execution_count": 53,
     "metadata": {},
     "output_type": "execute_result"
    }
   ],
   "source": [
    "df.job_search_term.unique()"
   ]
  },
  {
   "cell_type": "markdown",
   "metadata": {},
   "source": [
    "Here we have to find out if it is possible to classify the job ad for different role based on its contents."
   ]
  },
  {
   "cell_type": "code",
   "execution_count": 54,
   "metadata": {},
   "outputs": [
    {
     "name": "stdout",
     "output_type": "stream",
     "text": [
      "The baseline is  0.35\n"
     ]
    }
   ],
   "source": [
    "y = df.job_search_term\n",
    "baseline = y.value_counts(normalize=True)\n",
    "print('The baseline is ',round(max(baseline),2))"
   ]
  },
  {
   "cell_type": "code",
   "execution_count": 55,
   "metadata": {},
   "outputs": [],
   "source": [
    "# We perform multinomial Naive bayes"
   ]
  },
  {
   "cell_type": "code",
   "execution_count": 56,
   "metadata": {},
   "outputs": [
    {
     "name": "stdout",
     "output_type": "stream",
     "text": [
      "The Score with Naive Bayes is 0.6059701492537314\n",
      "[[108   9   0   0]\n",
      " [ 41  72   0   1]\n",
      " [ 30  17  20   0]\n",
      " [ 12  22   0   3]]\n"
     ]
    }
   ],
   "source": [
    "mnb = MultinomialNB()\n",
    "\n",
    "vect = TfidfVectorizer()\n",
    "X = vect.fit_transform(df['lem_output'])\n",
    "X_train,X_test,y_train,y_test = train_test_split(X,y,train_size = 0.8,random_state=8)\n",
    "model  = mnb.fit(X_train,y_train)\n",
    "score = model.score(X,y)\n",
    "predict = model.predict(X)\n",
    "diction = {'Actual':y,'Predicted':predict}\n",
    "df_predict = pd.DataFrame(diction)\n",
    "\n",
    "print('The Score with Naive Bayes is',score)\n",
    "print(confusion_matrix(y,predict))"
   ]
  },
  {
   "cell_type": "code",
   "execution_count": 57,
   "metadata": {},
   "outputs": [
    {
     "name": "stdout",
     "output_type": "stream",
     "text": [
      "The Score with Decision Tree Classifer is 0.44776119402985076\n",
      "[[94 20  3  0]\n",
      " [57 44  0 13]\n",
      " [13 12 33  9]\n",
      " [ 0  7  0 30]]\n"
     ]
    }
   ],
   "source": [
    "# Using Decision Tree Classifier\n",
    "\n",
    "vect = TfidfVectorizer()\n",
    "X = vect.fit_transform(df['lem_output'])\n",
    "X_train,X_test,y_train,y_test = train_test_split(X,y,train_size = 0.8,random_state=8)\n",
    "model  = DTClassifier.fit(X_train,y_train)\n",
    "score = model.score(X_test,y_test)\n",
    "predict = model.predict(X)\n",
    "diction = {'Actual':y,'Predicted':predict}\n",
    "df_predict = pd.DataFrame(diction)\n",
    "\n",
    "print('The Score with Decision Tree Classifer is',score)\n",
    "print(confusion_matrix(y,predict))"
   ]
  },
  {
   "cell_type": "code",
   "execution_count": 58,
   "metadata": {},
   "outputs": [
    {
     "name": "stdout",
     "output_type": "stream",
     "text": [
      "The Score with Random Tree Classifer is 0.7611940298507462\n",
      "[[90 22  3  2]\n",
      " [16 90  1  7]\n",
      " [ 9  9 45  4]\n",
      " [ 0  6  1 30]]\n"
     ]
    }
   ],
   "source": [
    "# Using Random Forest\n",
    "rf = RandomForestClassifier()\n",
    "vect = TfidfVectorizer(max_features=20)\n",
    "y= df.job_search_term\n",
    "X = vect.fit_transform(df['lem_output'])\n",
    "X_train,X_test,y_train,y_test = train_test_split(X,y,train_size = 0.8,random_state=8)\n",
    "model  = rf.fit(X_train,y_train)\n",
    "score = model.score(X,y)\n",
    "predict = model.predict(X)\n",
    "diction = {'Actual':y,'Predicted':predict}\n",
    "df_predict = pd.DataFrame(diction)\n",
    "\n",
    "print('The Score with Random Tree Classifer is',score)\n",
    "print(confusion_matrix(y,predict))\n"
   ]
  },
  {
   "cell_type": "code",
   "execution_count": 59,
   "metadata": {},
   "outputs": [],
   "source": [
    "vect.get_feature_names()\n",
    "rf.feature_importances_\n",
    "diction = dict({'feature':vect.get_feature_names(),'importance':rf.feature_importances_})"
   ]
  },
  {
   "cell_type": "code",
   "execution_count": 60,
   "metadata": {},
   "outputs": [
    {
     "data": {
      "text/html": [
       "<div>\n",
       "<style scoped>\n",
       "    .dataframe tbody tr th:only-of-type {\n",
       "        vertical-align: middle;\n",
       "    }\n",
       "\n",
       "    .dataframe tbody tr th {\n",
       "        vertical-align: top;\n",
       "    }\n",
       "\n",
       "    .dataframe thead th {\n",
       "        text-align: right;\n",
       "    }\n",
       "</style>\n",
       "<table border=\"1\" class=\"dataframe\">\n",
       "  <thead>\n",
       "    <tr style=\"text-align: right;\">\n",
       "      <th></th>\n",
       "      <th>feature</th>\n",
       "      <th>importance</th>\n",
       "    </tr>\n",
       "  </thead>\n",
       "  <tbody>\n",
       "    <tr>\n",
       "      <th>1</th>\n",
       "      <td>business</td>\n",
       "      <td>0.101368</td>\n",
       "    </tr>\n",
       "    <tr>\n",
       "      <th>5</th>\n",
       "      <td>experience</td>\n",
       "      <td>0.074281</td>\n",
       "    </tr>\n",
       "    <tr>\n",
       "      <th>0</th>\n",
       "      <td>analysis</td>\n",
       "      <td>0.060859</td>\n",
       "    </tr>\n",
       "    <tr>\n",
       "      <th>14</th>\n",
       "      <td>skill</td>\n",
       "      <td>0.057979</td>\n",
       "    </tr>\n",
       "    <tr>\n",
       "      <th>4</th>\n",
       "      <td>development</td>\n",
       "      <td>0.057482</td>\n",
       "    </tr>\n",
       "    <tr>\n",
       "      <th>2</th>\n",
       "      <td>design</td>\n",
       "      <td>0.057434</td>\n",
       "    </tr>\n",
       "    <tr>\n",
       "      <th>16</th>\n",
       "      <td>strong</td>\n",
       "      <td>0.055400</td>\n",
       "    </tr>\n",
       "    <tr>\n",
       "      <th>17</th>\n",
       "      <td>team</td>\n",
       "      <td>0.051648</td>\n",
       "    </tr>\n",
       "    <tr>\n",
       "      <th>6</th>\n",
       "      <td>include</td>\n",
       "      <td>0.051304</td>\n",
       "    </tr>\n",
       "    <tr>\n",
       "      <th>9</th>\n",
       "      <td>project</td>\n",
       "      <td>0.050437</td>\n",
       "    </tr>\n",
       "    <tr>\n",
       "      <th>18</th>\n",
       "      <td>technical</td>\n",
       "      <td>0.045265</td>\n",
       "    </tr>\n",
       "    <tr>\n",
       "      <th>11</th>\n",
       "      <td>requirement</td>\n",
       "      <td>0.045007</td>\n",
       "    </tr>\n",
       "    <tr>\n",
       "      <th>19</th>\n",
       "      <td>working</td>\n",
       "      <td>0.044721</td>\n",
       "    </tr>\n",
       "    <tr>\n",
       "      <th>8</th>\n",
       "      <td>management</td>\n",
       "      <td>0.041585</td>\n",
       "    </tr>\n",
       "    <tr>\n",
       "      <th>12</th>\n",
       "      <td>research</td>\n",
       "      <td>0.040478</td>\n",
       "    </tr>\n",
       "    <tr>\n",
       "      <th>13</th>\n",
       "      <td>service</td>\n",
       "      <td>0.039451</td>\n",
       "    </tr>\n",
       "    <tr>\n",
       "      <th>7</th>\n",
       "      <td>information</td>\n",
       "      <td>0.037640</td>\n",
       "    </tr>\n",
       "    <tr>\n",
       "      <th>3</th>\n",
       "      <td>develop</td>\n",
       "      <td>0.035037</td>\n",
       "    </tr>\n",
       "    <tr>\n",
       "      <th>10</th>\n",
       "      <td>report</td>\n",
       "      <td>0.034351</td>\n",
       "    </tr>\n",
       "    <tr>\n",
       "      <th>15</th>\n",
       "      <td>solution</td>\n",
       "      <td>0.018271</td>\n",
       "    </tr>\n",
       "  </tbody>\n",
       "</table>\n",
       "</div>"
      ],
      "text/plain": [
       "        feature  importance\n",
       "1      business    0.101368\n",
       "5    experience    0.074281\n",
       "0      analysis    0.060859\n",
       "14        skill    0.057979\n",
       "4   development    0.057482\n",
       "2        design    0.057434\n",
       "16       strong    0.055400\n",
       "17         team    0.051648\n",
       "6       include    0.051304\n",
       "9       project    0.050437\n",
       "18    technical    0.045265\n",
       "11  requirement    0.045007\n",
       "19      working    0.044721\n",
       "8    management    0.041585\n",
       "12     research    0.040478\n",
       "13      service    0.039451\n",
       "7   information    0.037640\n",
       "3       develop    0.035037\n",
       "10       report    0.034351\n",
       "15     solution    0.018271"
      ]
     },
     "execution_count": 60,
     "metadata": {},
     "output_type": "execute_result"
    }
   ],
   "source": [
    "feature_importances = pd.DataFrame(diction)\n",
    "feature_importances.sort_values(by='importance', ascending=False)"
   ]
  },
  {
   "cell_type": "markdown",
   "metadata": {},
   "source": [
    "While this is better than the 34% baseline. We will next look only at the data scientist job and see if we can predict it."
   ]
  },
  {
   "cell_type": "code",
   "execution_count": 61,
   "metadata": {},
   "outputs": [],
   "source": [
    "col = pd.Series(['job_search_term'])\n",
    "df_new = pd.get_dummies(df,columns=col)"
   ]
  },
  {
   "cell_type": "code",
   "execution_count": null,
   "metadata": {},
   "outputs": [],
   "source": []
  },
  {
   "cell_type": "code",
   "execution_count": null,
   "metadata": {},
   "outputs": [],
   "source": []
  },
  {
   "cell_type": "code",
   "execution_count": null,
   "metadata": {},
   "outputs": [],
   "source": []
  },
  {
   "cell_type": "markdown",
   "metadata": {},
   "source": [
    "# Feature Engineering\n",
    "\n",
    "In this problem, feature enginerering is important. To distinguish beteen a data scientist and data engineer, caertain word will be more frequently use"
   ]
  },
  {
   "cell_type": "markdown",
   "metadata": {},
   "source": [
    "While this is better than the 34% baseline. We will next look only at the data scientist job and see if we can predict it."
   ]
  },
  {
   "cell_type": "code",
   "execution_count": 62,
   "metadata": {},
   "outputs": [],
   "source": [
    "search_terms = ['regression','classification','machine','learning','modelling','predict',\n",
    "            'hadoop','spark','big data','sql','java','closure','database','git','cloud',\n",
    "               'python','r','statistics','model','analysis','finance','timeseries']"
   ]
  },
  {
   "cell_type": "code",
   "execution_count": 63,
   "metadata": {},
   "outputs": [],
   "source": [
    "def text_search(row):\n",
    "    \n",
    "    new_row=[]\n",
    "    for item in search_terms:\n",
    "        if item in row:\n",
    "            new_row.append(item)\n",
    "    return ' '.join(new_row)"
   ]
  },
  {
   "cell_type": "code",
   "execution_count": 64,
   "metadata": {},
   "outputs": [],
   "source": [
    "df['new_search'] = df.job_desc.apply(text_search)"
   ]
  },
  {
   "cell_type": "code",
   "execution_count": 65,
   "metadata": {},
   "outputs": [],
   "source": [
    "def bow_sorted(df_cat):\n",
    "    cvec=CountVectorizer(vocabulary=search_terms)\n",
    "    X = cvec.fit_transform(df_cat)\n",
    "    bow = X.toarray()\n",
    "    bow_sum = bow.sum(axis=0)\n",
    "    feat = cvec.get_feature_names()\n",
    "    bow_dict = {'bow':bow_sum,'features':feat}\n",
    "    df_bow = pd.DataFrame(bow_dict)\n",
    "    ret_df = df_bow.sort_values(by= 'bow',ascending= False)\n",
    "    return ret_df"
   ]
  },
  {
   "cell_type": "code",
   "execution_count": null,
   "metadata": {},
   "outputs": [],
   "source": []
  },
  {
   "cell_type": "code",
   "execution_count": 66,
   "metadata": {},
   "outputs": [],
   "source": [
    "def text_search(row):\n",
    "    \n",
    "    new_row=[]\n",
    "    for item in search_terms:\n",
    "        if item in row:\n",
    "            new_row.append(item)\n",
    "    return ' '.join(new_row)"
   ]
  },
  {
   "cell_type": "code",
   "execution_count": null,
   "metadata": {},
   "outputs": [],
   "source": []
  },
  {
   "cell_type": "code",
   "execution_count": 67,
   "metadata": {},
   "outputs": [],
   "source": [
    "df_ds =df[df.job_search_term == 'Data+Scientist']\n",
    "df_de =df[df.job_search_term == 'Data+Engineer']\n",
    "df_da =df[df.job_search_term == 'Data+Analyst']\n",
    "df_ba =df[df.job_search_term == 'Business+Analyst']"
   ]
  },
  {
   "cell_type": "code",
   "execution_count": 68,
   "metadata": {},
   "outputs": [],
   "source": [
    "df_ds['lem_DS'] = df['new_search'].apply(genlemma)\n",
    "df_de['lem_DS'] = df['new_search'].apply(genlemma)\n",
    "df_da['lem_DS'] = df['new_search'].apply(genlemma)\n",
    "df_ba['lem_DS'] = df['new_search'].apply(genlemma)"
   ]
  },
  {
   "cell_type": "code",
   "execution_count": 69,
   "metadata": {},
   "outputs": [],
   "source": [
    "ds_bow = bow_sorted(df_ds['lem_DS'])\n",
    "da_bow = bow_sorted(df_da['lem_DS'])\n",
    "de_bow = bow_sorted(df_de['lem_DS'])\n",
    "ba_bow = bow_sorted(df_ba['lem_DS'])"
   ]
  },
  {
   "cell_type": "code",
   "execution_count": 70,
   "metadata": {},
   "outputs": [
    {
     "data": {
      "text/html": [
       "<div>\n",
       "<style scoped>\n",
       "    .dataframe tbody tr th:only-of-type {\n",
       "        vertical-align: middle;\n",
       "    }\n",
       "\n",
       "    .dataframe tbody tr th {\n",
       "        vertical-align: top;\n",
       "    }\n",
       "\n",
       "    .dataframe thead th {\n",
       "        text-align: right;\n",
       "    }\n",
       "</style>\n",
       "<table border=\"1\" class=\"dataframe\">\n",
       "  <thead>\n",
       "    <tr style=\"text-align: right;\">\n",
       "      <th></th>\n",
       "      <th>bow</th>\n",
       "      <th>features</th>\n",
       "    </tr>\n",
       "  </thead>\n",
       "  <tbody>\n",
       "    <tr>\n",
       "      <th>19</th>\n",
       "      <td>69</td>\n",
       "      <td>analysis</td>\n",
       "    </tr>\n",
       "    <tr>\n",
       "      <th>18</th>\n",
       "      <td>44</td>\n",
       "      <td>model</td>\n",
       "    </tr>\n",
       "    <tr>\n",
       "      <th>9</th>\n",
       "      <td>34</td>\n",
       "      <td>sql</td>\n",
       "    </tr>\n",
       "    <tr>\n",
       "      <th>20</th>\n",
       "      <td>20</td>\n",
       "      <td>finance</td>\n",
       "    </tr>\n",
       "    <tr>\n",
       "      <th>12</th>\n",
       "      <td>19</td>\n",
       "      <td>database</td>\n",
       "    </tr>\n",
       "    <tr>\n",
       "      <th>13</th>\n",
       "      <td>18</td>\n",
       "      <td>git</td>\n",
       "    </tr>\n",
       "    <tr>\n",
       "      <th>4</th>\n",
       "      <td>16</td>\n",
       "      <td>modelling</td>\n",
       "    </tr>\n",
       "    <tr>\n",
       "      <th>2</th>\n",
       "      <td>13</td>\n",
       "      <td>machine</td>\n",
       "    </tr>\n",
       "    <tr>\n",
       "      <th>15</th>\n",
       "      <td>12</td>\n",
       "      <td>python</td>\n",
       "    </tr>\n",
       "    <tr>\n",
       "      <th>7</th>\n",
       "      <td>6</td>\n",
       "      <td>spark</td>\n",
       "    </tr>\n",
       "    <tr>\n",
       "      <th>0</th>\n",
       "      <td>6</td>\n",
       "      <td>regression</td>\n",
       "    </tr>\n",
       "    <tr>\n",
       "      <th>10</th>\n",
       "      <td>5</td>\n",
       "      <td>java</td>\n",
       "    </tr>\n",
       "    <tr>\n",
       "      <th>14</th>\n",
       "      <td>5</td>\n",
       "      <td>cloud</td>\n",
       "    </tr>\n",
       "    <tr>\n",
       "      <th>5</th>\n",
       "      <td>4</td>\n",
       "      <td>predict</td>\n",
       "    </tr>\n",
       "    <tr>\n",
       "      <th>1</th>\n",
       "      <td>4</td>\n",
       "      <td>classification</td>\n",
       "    </tr>\n",
       "    <tr>\n",
       "      <th>6</th>\n",
       "      <td>3</td>\n",
       "      <td>hadoop</td>\n",
       "    </tr>\n",
       "    <tr>\n",
       "      <th>17</th>\n",
       "      <td>0</td>\n",
       "      <td>statistics</td>\n",
       "    </tr>\n",
       "    <tr>\n",
       "      <th>11</th>\n",
       "      <td>0</td>\n",
       "      <td>closure</td>\n",
       "    </tr>\n",
       "    <tr>\n",
       "      <th>16</th>\n",
       "      <td>0</td>\n",
       "      <td>r</td>\n",
       "    </tr>\n",
       "    <tr>\n",
       "      <th>8</th>\n",
       "      <td>0</td>\n",
       "      <td>big data</td>\n",
       "    </tr>\n",
       "    <tr>\n",
       "      <th>3</th>\n",
       "      <td>0</td>\n",
       "      <td>learning</td>\n",
       "    </tr>\n",
       "    <tr>\n",
       "      <th>21</th>\n",
       "      <td>0</td>\n",
       "      <td>timeseries</td>\n",
       "    </tr>\n",
       "  </tbody>\n",
       "</table>\n",
       "</div>"
      ],
      "text/plain": [
       "    bow        features\n",
       "19   69        analysis\n",
       "18   44           model\n",
       "9    34             sql\n",
       "20   20         finance\n",
       "12   19        database\n",
       "13   18             git\n",
       "4    16       modelling\n",
       "2    13         machine\n",
       "15   12          python\n",
       "7     6           spark\n",
       "0     6      regression\n",
       "10    5            java\n",
       "14    5           cloud\n",
       "5     4         predict\n",
       "1     4  classification\n",
       "6     3          hadoop\n",
       "17    0      statistics\n",
       "11    0         closure\n",
       "16    0               r\n",
       "8     0        big data\n",
       "3     0        learning\n",
       "21    0      timeseries"
      ]
     },
     "execution_count": 70,
     "metadata": {},
     "output_type": "execute_result"
    }
   ],
   "source": [
    "da_bow"
   ]
  },
  {
   "cell_type": "code",
   "execution_count": 71,
   "metadata": {},
   "outputs": [
    {
     "data": {
      "text/html": [
       "<div>\n",
       "<style scoped>\n",
       "    .dataframe tbody tr th:only-of-type {\n",
       "        vertical-align: middle;\n",
       "    }\n",
       "\n",
       "    .dataframe tbody tr th {\n",
       "        vertical-align: top;\n",
       "    }\n",
       "\n",
       "    .dataframe thead th {\n",
       "        text-align: right;\n",
       "    }\n",
       "</style>\n",
       "<table border=\"1\" class=\"dataframe\">\n",
       "  <thead>\n",
       "    <tr style=\"text-align: right;\">\n",
       "      <th></th>\n",
       "      <th>bow</th>\n",
       "      <th>features</th>\n",
       "    </tr>\n",
       "  </thead>\n",
       "  <tbody>\n",
       "    <tr>\n",
       "      <th>15</th>\n",
       "      <td>18</td>\n",
       "      <td>python</td>\n",
       "    </tr>\n",
       "    <tr>\n",
       "      <th>18</th>\n",
       "      <td>16</td>\n",
       "      <td>model</td>\n",
       "    </tr>\n",
       "    <tr>\n",
       "      <th>2</th>\n",
       "      <td>14</td>\n",
       "      <td>machine</td>\n",
       "    </tr>\n",
       "    <tr>\n",
       "      <th>19</th>\n",
       "      <td>12</td>\n",
       "      <td>analysis</td>\n",
       "    </tr>\n",
       "    <tr>\n",
       "      <th>4</th>\n",
       "      <td>11</td>\n",
       "      <td>modelling</td>\n",
       "    </tr>\n",
       "    <tr>\n",
       "      <th>5</th>\n",
       "      <td>11</td>\n",
       "      <td>predict</td>\n",
       "    </tr>\n",
       "    <tr>\n",
       "      <th>9</th>\n",
       "      <td>11</td>\n",
       "      <td>sql</td>\n",
       "    </tr>\n",
       "    <tr>\n",
       "      <th>12</th>\n",
       "      <td>9</td>\n",
       "      <td>database</td>\n",
       "    </tr>\n",
       "    <tr>\n",
       "      <th>7</th>\n",
       "      <td>6</td>\n",
       "      <td>spark</td>\n",
       "    </tr>\n",
       "    <tr>\n",
       "      <th>13</th>\n",
       "      <td>6</td>\n",
       "      <td>git</td>\n",
       "    </tr>\n",
       "    <tr>\n",
       "      <th>1</th>\n",
       "      <td>5</td>\n",
       "      <td>classification</td>\n",
       "    </tr>\n",
       "    <tr>\n",
       "      <th>14</th>\n",
       "      <td>5</td>\n",
       "      <td>cloud</td>\n",
       "    </tr>\n",
       "    <tr>\n",
       "      <th>6</th>\n",
       "      <td>3</td>\n",
       "      <td>hadoop</td>\n",
       "    </tr>\n",
       "    <tr>\n",
       "      <th>10</th>\n",
       "      <td>3</td>\n",
       "      <td>java</td>\n",
       "    </tr>\n",
       "    <tr>\n",
       "      <th>0</th>\n",
       "      <td>2</td>\n",
       "      <td>regression</td>\n",
       "    </tr>\n",
       "    <tr>\n",
       "      <th>20</th>\n",
       "      <td>1</td>\n",
       "      <td>finance</td>\n",
       "    </tr>\n",
       "    <tr>\n",
       "      <th>17</th>\n",
       "      <td>0</td>\n",
       "      <td>statistics</td>\n",
       "    </tr>\n",
       "    <tr>\n",
       "      <th>11</th>\n",
       "      <td>0</td>\n",
       "      <td>closure</td>\n",
       "    </tr>\n",
       "    <tr>\n",
       "      <th>16</th>\n",
       "      <td>0</td>\n",
       "      <td>r</td>\n",
       "    </tr>\n",
       "    <tr>\n",
       "      <th>8</th>\n",
       "      <td>0</td>\n",
       "      <td>big data</td>\n",
       "    </tr>\n",
       "    <tr>\n",
       "      <th>3</th>\n",
       "      <td>0</td>\n",
       "      <td>learning</td>\n",
       "    </tr>\n",
       "    <tr>\n",
       "      <th>21</th>\n",
       "      <td>0</td>\n",
       "      <td>timeseries</td>\n",
       "    </tr>\n",
       "  </tbody>\n",
       "</table>\n",
       "</div>"
      ],
      "text/plain": [
       "    bow        features\n",
       "15   18          python\n",
       "18   16           model\n",
       "2    14         machine\n",
       "19   12        analysis\n",
       "4    11       modelling\n",
       "5    11         predict\n",
       "9    11             sql\n",
       "12    9        database\n",
       "7     6           spark\n",
       "13    6             git\n",
       "1     5  classification\n",
       "14    5           cloud\n",
       "6     3          hadoop\n",
       "10    3            java\n",
       "0     2      regression\n",
       "20    1         finance\n",
       "17    0      statistics\n",
       "11    0         closure\n",
       "16    0               r\n",
       "8     0        big data\n",
       "3     0        learning\n",
       "21    0      timeseries"
      ]
     },
     "execution_count": 71,
     "metadata": {},
     "output_type": "execute_result"
    }
   ],
   "source": [
    "ds_bow"
   ]
  },
  {
   "cell_type": "markdown",
   "metadata": {},
   "source": [
    "\n",
    "### BONUS PROBLEM\n",
    "\n",
    "Your boss would rather tell a client incorrectly that they would get a lower salary job than tell a client incorrectly that they would get a high salary job. Adjust one of your models to ease his mind, and explain what it is doing and any tradeoffs. Plot the ROC curve."
   ]
  },
  {
   "cell_type": "code",
   "execution_count": 72,
   "metadata": {},
   "outputs": [],
   "source": [
    "# The Logistic Regression is very good in not labeling a low salary salary as high salary. So we use that for this problem.\n",
    "# Tweaking the False positives and negatives is already tackled in problem 1 solution."
   ]
  }
 ],
 "metadata": {
  "kernelspec": {
   "display_name": "Python 3",
   "language": "python",
   "name": "python3"
  },
  "language_info": {
   "codemirror_mode": {
    "name": "ipython",
    "version": 3
   },
   "file_extension": ".py",
   "mimetype": "text/x-python",
   "name": "python",
   "nbconvert_exporter": "python",
   "pygments_lexer": "ipython3",
   "version": "3.6.5"
  }
 },
 "nbformat": 4,
 "nbformat_minor": 2
}
