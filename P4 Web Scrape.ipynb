{
 "cells": [
  {
   "cell_type": "code",
   "execution_count": 1,
   "metadata": {},
   "outputs": [],
   "source": [
    "import requests\n",
    "from bs4 import BeautifulSoup\n",
    "import pandas as pd\n",
    "import numpy as np\n",
    "from selenium import webdriver\n",
    "from selenium.webdriver.common.keys import Keys\n",
    "import re\n",
    "# from scrapy.selector import Selector\n",
    "# from scrapy.http import HtmlResponse\n",
    "import os"
   ]
  },
  {
   "cell_type": "code",
   "execution_count": 2,
   "metadata": {},
   "outputs": [],
   "source": [
    "# create the URL\n",
    "baseurl = 'https://au.indeed.com/jobs?q='\n",
    "search = ['Data+Scientist','Data+Analyst','Business+Analyst','Data+Engineer',]\n",
    "location =['Sydney+NSW','Melbourne+VIC','Brisbane+QLD','Perth+WA','Adelaide+SA']\n",
    "limit='50'"
   ]
  },
  {
   "cell_type": "markdown",
   "metadata": {},
   "source": [
    "## Function Definitions"
   ]
  },
  {
   "cell_type": "code",
   "execution_count": 3,
   "metadata": {},
   "outputs": [],
   "source": [
    "# Function to get the Job URL and Job Title\n",
    "def Job_Title_URL(jobs,joburl=[],jobtitle=[]):\n",
    "    for i in range(len(jobs)):\n",
    "        joburl.append('https://au.indeed.com/'+jobs[i]['href'])\n",
    "        jobtitle.append(jobs[i]['title'])\n",
    "    return joburl,jobtitle"
   ]
  },
  {
   "cell_type": "code",
   "execution_count": 4,
   "metadata": {},
   "outputs": [],
   "source": [
    "# Function to get Company name\n",
    "def company_name(soup, company_names=[]):\n",
    "    for row in soup.find_all('div', {'id':True}):\n",
    "        for header in row.find_all('span', {'class':'company'}):\n",
    "            company_names.append(header.text.replace('\\n',''))\n",
    "    return company_names"
   ]
  },
  {
   "cell_type": "code",
   "execution_count": 5,
   "metadata": {},
   "outputs": [],
   "source": [
    "# Function to get Salary if Exists otherwise replace as Null\n",
    "def get_salary(soup, salary_list=[]):\n",
    "    for row in soup.find_all('div', {'id':True}):\n",
    "        for block in row.find_all('td', {'class':'snip'}):\n",
    "            try:\n",
    "                salary =  block.find('span', {'class':'no-wrap'}).text\n",
    "                salary_list.append(salary)\n",
    "            except:\n",
    "                salary_list.append(np.nan)\n",
    "                \n",
    "    return salary_list"
   ]
  },
  {
   "cell_type": "code",
   "execution_count": 6,
   "metadata": {},
   "outputs": [],
   "source": [
    "def sal_newline(row):\n",
    "    try:\n",
    "        # Replace \\n with nothing\n",
    "        new_row = row.replace('\\n', '')\n",
    "    except:\n",
    "        new_row = np.nan    \n",
    "    \n",
    "    return new_row"
   ]
  },
  {
   "cell_type": "code",
   "execution_count": 7,
   "metadata": {},
   "outputs": [],
   "source": [
    "driver = webdriver.Chrome(executable_path=\"./chromedriver/chromedriver.exe\")"
   ]
  },
  {
   "cell_type": "code",
   "execution_count": null,
   "metadata": {},
   "outputs": [],
   "source": []
  },
  {
   "cell_type": "code",
   "execution_count": 8,
   "metadata": {},
   "outputs": [],
   "source": [
    "for i in range(len(search)):\n",
    "    for j in range(len(location)):\n",
    "        # Get the Soup for the First Page\n",
    "        url = baseurl+search[i]+'&l='+location[j]\n",
    "        driver.get(url)\n",
    "        html = driver.page_source\n",
    "        soup = BeautifulSoup(html,'lxml') \n",
    "        \n",
    "        # Get the number of pages for a particular search term at a particular location\n",
    "        num_add = soup.find(name = 'div',attrs = {'id' : 'searchCount'})\n",
    "        num_jobs=int(re.findall('(\\d+) jobs',num_add.text)[0])\n",
    "        num_pages = int(np.floor(num_jobs /(int(limit))))\n",
    "        page = list(range(int(limit),(num_pages)*int(limit),int(limit)))\n",
    "        npage = [str(x) for x in page]\n",
    "        npage.insert(0,'')\n",
    "        \n",
    "        # Go to these pages and start scraping Individual Ads\n",
    "        for k in range(len(npage)):\n",
    "            url_pages = url+'&start='+npage[k]\n",
    "            \n",
    "            # Create the sub page soup\n",
    "            driver.get(url_pages)\n",
    "            sub_html = driver.page_source\n",
    "            sub_soup = BeautifulSoup(sub_html,'lxml') \n",
    "            \n",
    "            # Find the Individual Jobs\n",
    "            jobs = sub_soup.find_all('a', attrs={\"data-tn-element\":\"jobTitle\"})\n",
    "            \n",
    "            joburl,jobtitle = Job_Title_URL(jobs)     # JobURL and JobTitle\n",
    "            salary = get_salary(sub_soup)             # Get the Salary list\n",
    "            company = company_name(sub_soup)          # Get the name of the company\n",
    "            job_loc = np.repeat(location[j],len(joburl)) # Create an array for Job Location\n",
    "            job_search = np.repeat(search[i],len(joburl))# Create an array for Job Search Term\n",
    "            \n",
    "            # Create the dataframe from this data\n",
    "            diction= dict({'jobtitle':jobtitle,'joburl':joburl,'company':company,\n",
    "               'job_loc':job_loc,'job_search_term':job_search,'Salary':salary})\n",
    "            df = pd.DataFrame(diction)\n",
    "            df.Salary = df.Salary.map(sal_newline)\n",
    "            # Save / Append the information in a CSV file\n",
    "            # if file does not exist write header \n",
    "        if not os.path.isfile('JobData.csv'):\n",
    "            df.to_csv('JobData.csv')\n",
    "        else: # else it exists so append without writing the header\n",
    "            df.to_csv('JobData.csv', mode='a', header=False)   \n",
    "       \n",
    "            \n",
    "        \n",
    "                   "
   ]
  },
  {
   "cell_type": "code",
   "execution_count": 9,
   "metadata": {},
   "outputs": [],
   "source": [
    "driver.close()"
   ]
  },
  {
   "cell_type": "code",
   "execution_count": 10,
   "metadata": {},
   "outputs": [],
   "source": [
    "# Get the Saved Dataframe from the saved file\n",
    "\n",
    "df = pd.read_csv('JobData.csv')"
   ]
  },
  {
   "cell_type": "code",
   "execution_count": 11,
   "metadata": {},
   "outputs": [
    {
     "data": {
      "text/plain": [
       "(16098, 7)"
      ]
     },
     "execution_count": 11,
     "metadata": {},
     "output_type": "execute_result"
    }
   ],
   "source": [
    "df.shape"
   ]
  },
  {
   "cell_type": "code",
   "execution_count": 13,
   "metadata": {},
   "outputs": [
    {
     "data": {
      "text/plain": [
       "13051"
      ]
     },
     "execution_count": 13,
     "metadata": {},
     "output_type": "execute_result"
    }
   ],
   "source": [
    "df.Salary.isnull().sum() "
   ]
  },
  {
   "cell_type": "code",
   "execution_count": 26,
   "metadata": {},
   "outputs": [
    {
     "data": {
      "text/plain": [
       "16098"
      ]
     },
     "execution_count": 26,
     "metadata": {},
     "output_type": "execute_result"
    }
   ],
   "source": [
    "len(df.joburl)"
   ]
  },
  {
   "cell_type": "markdown",
   "metadata": {},
   "source": [
    "We have Salary information on about 3047 jobs.  "
   ]
  },
  {
   "cell_type": "code",
   "execution_count": 30,
   "metadata": {},
   "outputs": [],
   "source": [
    "# Now we pull summary for each of the job\n",
    "def job_summary(df,summary=[]):\n",
    "    for m in range(len(df.joburl)):\n",
    "        url = df.joburl[m]\n",
    "        html_job = requests.get(url)\n",
    "        soup_job = BeautifulSoup(html_job.content,'lxml')\n",
    "        x= soup_job.find_all('div',{'class':'jobsearch-JobComponent-description'})\n",
    "        summary.append(x[0].text)\n",
    "    return summary"
   ]
  },
  {
   "cell_type": "code",
   "execution_count": 35,
   "metadata": {},
   "outputs": [],
   "source": [
    "# Now we pull summary for each of the job\n",
    "def job_summary(df_joburl):\n",
    "    try:\n",
    "        html_job = requests.get(df_joburl)\n",
    "        soup_job = BeautifulSoup(html_job.content,'lxml')\n",
    "        x= soup_job.find_all('div',{'class':'jobsearch-JobComponent-description'})\n",
    "        return x[0].text\n",
    "    except:\n",
    "        return None"
   ]
  },
  {
   "cell_type": "code",
   "execution_count": 36,
   "metadata": {},
   "outputs": [],
   "source": [
    "df['job_desc'] = df['joburl'].apply(job_summary)"
   ]
  },
  {
   "cell_type": "code",
   "execution_count": 38,
   "metadata": {},
   "outputs": [
    {
     "data": {
      "text/plain": [
       "36"
      ]
     },
     "execution_count": 38,
     "metadata": {},
     "output_type": "execute_result"
    }
   ],
   "source": [
    "df.job_desc.isnull().sum()"
   ]
  },
  {
   "cell_type": "code",
   "execution_count": 39,
   "metadata": {},
   "outputs": [],
   "source": [
    "df.to_csv('SummarizedData.csv')"
   ]
  },
  {
   "cell_type": "code",
   "execution_count": 22,
   "metadata": {},
   "outputs": [],
   "source": []
  },
  {
   "cell_type": "code",
   "execution_count": null,
   "metadata": {},
   "outputs": [],
   "source": []
  },
  {
   "cell_type": "code",
   "execution_count": null,
   "metadata": {},
   "outputs": [],
   "source": []
  }
 ],
 "metadata": {
  "kernelspec": {
   "display_name": "Python 3",
   "language": "python",
   "name": "python3"
  },
  "language_info": {
   "codemirror_mode": {
    "name": "ipython",
    "version": 3
   },
   "file_extension": ".py",
   "mimetype": "text/x-python",
   "name": "python",
   "nbconvert_exporter": "python",
   "pygments_lexer": "ipython3",
   "version": "3.6.5"
  }
 },
 "nbformat": 4,
 "nbformat_minor": 2
}
